{
 "cells": [
  {
   "cell_type": "code",
   "execution_count": 2,
   "metadata": {},
   "outputs": [
    {
     "name": "stderr",
     "output_type": "stream",
     "text": [
      "Using TensorFlow backend.\n"
     ]
    }
   ],
   "source": [
    "import os\n",
    "import numpy as np\n",
    "import sklearn\n",
    "import pydicom\n",
    "import matplotlib.pyplot as plt\n",
    "import pickle\n",
    "\n",
    "np.random.seed(42)\n",
    "\n",
    "from model import *\n",
    "\n",
    "os.environ[\"CUDA_VISIBLE_DEVICES\"] = \"1\""
   ]
  },
  {
   "cell_type": "code",
   "execution_count": 7,
   "metadata": {},
   "outputs": [],
   "source": [
    "dimension = (576, 640, 1)"
   ]
  },
  {
   "cell_type": "code",
   "execution_count": 4,
   "metadata": {},
   "outputs": [],
   "source": [
    "def createMask(file):\n",
    "    for key in file.dir():\n",
    "       value = getattr(file, key, \"\")\n",
    "       if(key == \"SequenceOfUltrasoundRegions\"):\n",
    "           value = value[0]\n",
    "           break\n",
    "    x0, x1, y0, y1 = None, None, None, None\n",
    "    for key in value.dir():\n",
    "       if key == \"RegionLocationMinX0\":\n",
    "           x0 = getattr(value, key, \"\")\n",
    "       if key == \"RegionLocationMaxX1\":\n",
    "           x1 = getattr(value, key, \"\")\n",
    "       if key == \"RegionLocationMinY0\":\n",
    "           y0 = getattr(value, key, \"\")\n",
    "       if key == \"RegionLocationMaxY1\":\n",
    "           y1 = getattr(value, key, \"\")            \n",
    "    \n",
    "    masked = np.zeros(file.pixel_array.shape)\n",
    "    masked[y0:y1+1, x0:x1+1, 0] = 1\n",
    "    \n",
    "    \n",
    "    return masked[:, :, :]"
   ]
  },
  {
   "cell_type": "code",
   "execution_count": 5,
   "metadata": {},
   "outputs": [],
   "source": [
    "folder = \"/data3/wv2019/data/PLIC_CHIESA_DICOM/\""
   ]
  },
  {
   "cell_type": "code",
   "execution_count": 8,
   "metadata": {
    "scrolled": false
   },
   "outputs": [],
   "source": [
    "x = []\n",
    "y = []\n",
    "for filename in os.listdir(folder)[:10]:\n",
    "    file = pydicom.dcmread(os.path.join(folder, filename))\n",
    "    if (file.pixel_array[:, :, :1].shape == dimension):\n",
    "        x.append(file.pixel_array[:, :, :1])\n",
    "        masked = createMask(file)\n",
    "        y.append(masked)\n",
    "        \n",
    "#         plt.imshow(file.pixel_array)\n",
    "#         plt.show()\n",
    "#         plt.imshow(masked)\n",
    "#         plt.show()"
   ]
  },
  {
   "cell_type": "code",
   "execution_count": 10,
   "metadata": {},
   "outputs": [],
   "source": [
    "X = np.array(x)\n",
    "Y = np.array(y)\n",
    "x, y = None, None"
   ]
  },
  {
   "cell_type": "code",
   "execution_count": null,
   "metadata": {},
   "outputs": [],
   "source": [
    "model = unet(input_size=dimension)\n",
    "\n",
    "model_checkpoint = ModelCheckpoint('unet_check.hdf5', monitor='loss', verbose=1, save_best_only=True)\n",
    "\n",
    "history = model.fit(X, Y, batch_size=2, epochs=500, verbose=1, \n",
    "                    validation_split=0.33, shuffle=True, \n",
    "                    callbacks=[model_checkpoint])"
   ]
  },
  {
   "cell_type": "code",
   "execution_count": null,
   "metadata": {},
   "outputs": [],
   "source": [
    "model.save(\"model_500ep.h5\")\n",
    "pickle.dump(history, open(\"model_500ep.pkl\", \"wb\"))"
   ]
  }
 ],
 "metadata": {
  "kernelspec": {
   "display_name": "Python [conda env:score]",
   "language": "python",
   "name": "conda-env-score-py"
  },
  "language_info": {
   "codemirror_mode": {
    "name": "ipython",
    "version": 3
   },
   "file_extension": ".py",
   "mimetype": "text/x-python",
   "name": "python",
   "nbconvert_exporter": "python",
   "pygments_lexer": "ipython3",
   "version": "3.7.3"
  }
 },
 "nbformat": 4,
 "nbformat_minor": 2
}
